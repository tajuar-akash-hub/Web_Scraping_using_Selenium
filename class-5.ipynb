{
 "cells": [
  {
   "cell_type": "code",
   "execution_count": 1,
   "metadata": {},
   "outputs": [],
   "source": [
    "from selenium import webdriver\n",
    "from selenium.webdriver.common.by import By \n",
    "import time \n",
    "import math"
   ]
  },
  {
   "cell_type": "code",
   "execution_count": 2,
   "metadata": {},
   "outputs": [],
   "source": [
    "driver = webdriver.Chrome()"
   ]
  },
  {
   "cell_type": "code",
   "execution_count": 9,
   "metadata": {},
   "outputs": [],
   "source": [
    "# driver.get(\"https://www.daraz.com.bd/products/lte-wifi-150-mbps-usb-i331927284.html?spm=a2a0e.searchlistcategory.list.1.5efe3d8fJMTi2V\")\n",
    "driver.get(\"https://www.daraz.com.bd/products/mercusys-ac12-ac1200-i373299504.html?spm=a2a0e.searchlistcategory.list.22.42433d8flZeCvA\")\n",
    "\n",
    "driver.maximize_window()"
   ]
  },
  {
   "cell_type": "code",
   "execution_count": 10,
   "metadata": {},
   "outputs": [
    {
     "name": "stdout",
     "output_type": "stream",
     "text": [
      "4709\n"
     ]
    }
   ],
   "source": [
    "height = driver.execute_script('return document.body.scrollHeight')\n",
    "print(height)"
   ]
  },
  {
   "cell_type": "code",
   "execution_count": 7,
   "metadata": {},
   "outputs": [],
   "source": [
    "for i in range(0,height+2000,30):\n",
    "    time.sleep(0.5)\n",
    "    driver.execute_script(f'window.scrollTo(0,{i});')\n",
    "\n"
   ]
  },
  {
   "cell_type": "code",
   "execution_count": null,
   "metadata": {},
   "outputs": [],
   "source": []
  },
  {
   "cell_type": "markdown",
   "metadata": {},
   "source": [
    "# Scrap comments from multiple rendering pagination "
   ]
  },
  {
   "cell_type": "code",
   "execution_count": null,
   "metadata": {},
   "outputs": [],
   "source": []
  },
  {
   "cell_type": "markdown",
   "metadata": {},
   "source": [
    "# Scrap single comments "
   ]
  },
  {
   "cell_type": "code",
   "execution_count": 11,
   "metadata": {},
   "outputs": [],
   "source": [
    "comments = driver.find_elements(By.CLASS_NAME,'content')"
   ]
  },
  {
   "cell_type": "code",
   "execution_count": 12,
   "metadata": {},
   "outputs": [
    {
     "name": "stdout",
     "output_type": "stream",
     "text": [
      "4.7/5\n",
      "30 Ratings\n",
      "25\n",
      "3\n",
      "1\n",
      "1\n",
      "0\n",
      "Router 5G er speed khub e valo but Range kom\n",
      "\n",
      "\n",
      "\"pic just for attention if you smile Don't forget to like\"\n",
      "প্যাকেজিং টা খুবই ভালো ছিল এবং ভেতরকার পণ্যটি পুরো অথেন্টিক ছিল এটি একটি ডুয়াল ব্যান্ডের রাউটার চাইলে আপনারা নিতে পারেন খুবই ভাল সার্ভিস দেয় দাম হিসেবে  মান ভালই আছে\n",
      "product ki peyechi ........ product ki vlo ♥️ vlo hoise product ki 🥀 r delivery man er behavior o vlo chilo thanks♥️\n",
      "ডুয়াল ব্যান্ড এর ৫জি তে স্পিড ডাবল পাচ্ছি আগের সিংগেল ব্যান্ড রাউটার থেকে। অ্যাপ খুব সহজেই ব্যবহার করা যাচ্ছে। ১ সপ্তাহ ব্যবহার করে কোন ধরনের সমস্যা দেখিনি।\n",
      "এই দামে খুবই ভাল বলতেই হয়। ধন্যবাদ\n",
      "প্যাকেজিং intact ছিলো \n",
      "বক্স ড্যামেজ হয়নি\n",
      "রাউটার টি দেখতে সুন্দর\n",
      "সাইজে একটু বড় আমার মনে হয়না ভিতরের বোর্ড টা এতো বড় হবে শুধু মাত্র দামি দেখানোর জন্য এত বড় সাইজ।\n",
      "আমার নেট 100Mbps e cap করা তাই এর বেশি টেস্ট করতে পারিনি তবে এর বেশি এটা অনায়াসে হ্যান্ডেল করতে পারবে বলে মনে হয়েছে।\n",
      "\n",
      "ওয়েব ইন্টারফেস টা same tp link এর মত\n",
      "কারণ mercusys tp link এর ই আরেকটি ব্র্যান্ড।\n"
     ]
    }
   ],
   "source": [
    "for i in comments:\n",
    "    print(i.text)"
   ]
  },
  {
   "cell_type": "code",
   "execution_count": 7,
   "metadata": {},
   "outputs": [
    {
     "data": {
      "text/plain": [
       "0"
      ]
     },
     "execution_count": 7,
     "metadata": {},
     "output_type": "execute_result"
    }
   ],
   "source": [
    "len(comments)"
   ]
  },
  {
   "cell_type": "code",
   "execution_count": 13,
   "metadata": {},
   "outputs": [],
   "source": [
    "next_button = '//*[@id=\"module_product_review\"]/div/div/div[3]/div[2]/div/button[2]'\n",
    "get_next_button = driver.find_element(By.XPATH,next_button)"
   ]
  },
  {
   "cell_type": "code",
   "execution_count": 21,
   "metadata": {},
   "outputs": [],
   "source": [
    "get_next_button.get_attribute('i')"
   ]
  },
  {
   "cell_type": "code",
   "execution_count": 67,
   "metadata": {},
   "outputs": [],
   "source": [
    "get_next_button.click()"
   ]
  },
  {
   "cell_type": "code",
   "execution_count": 15,
   "metadata": {},
   "outputs": [],
   "source": [
    "buttons = driver.find_elements(By.CSS_SELECTOR, '.next-pagination button')"
   ]
  },
  {
   "cell_type": "code",
   "execution_count": 16,
   "metadata": {},
   "outputs": [
    {
     "data": {
      "text/plain": [
       "['1', '2', '3', '4', '6']"
      ]
     },
     "execution_count": 16,
     "metadata": {},
     "output_type": "execute_result"
    }
   ],
   "source": [
    "new_buttons = []\n",
    "\n",
    "for i in buttons[1:]:  # first string is also empty, that's why we sliced it\n",
    "    button_text = i.text.strip()\n",
    "\n",
    "    if button_text == '':\n",
    "        break\n",
    "        \n",
    "    new_buttons.append(i.text)\n",
    "   \n",
    "\n",
    "new_buttons"
   ]
  },
  {
   "cell_type": "code",
   "execution_count": 17,
   "metadata": {},
   "outputs": [],
   "source": [
    "last_button = int(new_buttons[-1])"
   ]
  },
  {
   "cell_type": "code",
   "execution_count": 18,
   "metadata": {},
   "outputs": [
    {
     "data": {
      "text/plain": [
       "6"
      ]
     },
     "execution_count": 18,
     "metadata": {},
     "output_type": "execute_result"
    }
   ],
   "source": [
    "last_button"
   ]
  },
  {
   "cell_type": "markdown",
   "metadata": {},
   "source": [
    "## scraping comments of multiple pagination after getting the last page number --------------"
   ]
  },
  {
   "cell_type": "code",
   "execution_count": 19,
   "metadata": {},
   "outputs": [],
   "source": [
    "comment_collection = []"
   ]
  },
  {
   "cell_type": "code",
   "execution_count": 20,
   "metadata": {},
   "outputs": [
    {
     "ename": "ElementClickInterceptedException",
     "evalue": "Message: element click intercepted: Element <button type=\"button\" class=\"next-btn next-btn-normal next-btn-medium next-pagination-item next\">...</button> is not clickable at point (1114, 20). Other element would receive the click: <div class=\"logo-bar-content header-content\">...</div>\n  (Session info: chrome=132.0.6834.160)\nStacktrace:\n\tGetHandleVerifier [0x00007FF76D4802F5+28725]\n\t(No symbol) [0x00007FF76D3E2AE0]\n\t(No symbol) [0x00007FF76D27510A]\n\t(No symbol) [0x00007FF76D2D10F8]\n\t(No symbol) [0x00007FF76D2CEB42]\n\t(No symbol) [0x00007FF76D2CBC51]\n\t(No symbol) [0x00007FF76D2CABB1]\n\t(No symbol) [0x00007FF76D2BC6B4]\n\t(No symbol) [0x00007FF76D2EFFAA]\n\t(No symbol) [0x00007FF76D2BBF86]\n\t(No symbol) [0x00007FF76D2F01C0]\n\t(No symbol) [0x00007FF76D310181]\n\t(No symbol) [0x00007FF76D2EFD53]\n\t(No symbol) [0x00007FF76D2BA0E3]\n\t(No symbol) [0x00007FF76D2BB471]\n\tGetHandleVerifier [0x00007FF76D7AF30D+3366989]\n\tGetHandleVerifier [0x00007FF76D7C12F0+3440688]\n\tGetHandleVerifier [0x00007FF76D7B78FD+3401277]\n\tGetHandleVerifier [0x00007FF76D54AAAB+858091]\n\t(No symbol) [0x00007FF76D3EE74F]\n\t(No symbol) [0x00007FF76D3EA304]\n\t(No symbol) [0x00007FF76D3EA49D]\n\t(No symbol) [0x00007FF76D3D8B69]\n\tBaseThreadInitThunk [0x00007FFF8980257D+29]\n\tRtlUserThreadStart [0x00007FFF8B68AA48+40]\n",
     "output_type": "error",
     "traceback": [
      "\u001b[1;31m---------------------------------------------------------------------------\u001b[0m",
      "\u001b[1;31mElementClickInterceptedException\u001b[0m          Traceback (most recent call last)",
      "Cell \u001b[1;32mIn[20], line 16\u001b[0m\n\u001b[0;32m     14\u001b[0m next_button \u001b[38;5;241m=\u001b[39m \u001b[38;5;124m'\u001b[39m\u001b[38;5;124m//*[@id=\u001b[39m\u001b[38;5;124m\"\u001b[39m\u001b[38;5;124mmodule_product_review\u001b[39m\u001b[38;5;124m\"\u001b[39m\u001b[38;5;124m]/div/div/div[3]/div[2]/div/button[2]\u001b[39m\u001b[38;5;124m'\u001b[39m\n\u001b[0;32m     15\u001b[0m get_next_button \u001b[38;5;241m=\u001b[39m driver\u001b[38;5;241m.\u001b[39mfind_element(By\u001b[38;5;241m.\u001b[39mXPATH,next_button)\n\u001b[1;32m---> 16\u001b[0m \u001b[43mget_next_button\u001b[49m\u001b[38;5;241;43m.\u001b[39;49m\u001b[43mclick\u001b[49m\u001b[43m(\u001b[49m\u001b[43m)\u001b[49m\n",
      "File \u001b[1;32mc:\\Users\\Akash_windows11\\AppData\\Local\\Programs\\Python\\Python39\\lib\\site-packages\\selenium\\webdriver\\remote\\webelement.py:94\u001b[0m, in \u001b[0;36mWebElement.click\u001b[1;34m(self)\u001b[0m\n\u001b[0;32m     92\u001b[0m \u001b[38;5;28;01mdef\u001b[39;00m \u001b[38;5;21mclick\u001b[39m(\u001b[38;5;28mself\u001b[39m) \u001b[38;5;241m-\u001b[39m\u001b[38;5;241m>\u001b[39m \u001b[38;5;28;01mNone\u001b[39;00m:\n\u001b[0;32m     93\u001b[0m \u001b[38;5;250m    \u001b[39m\u001b[38;5;124;03m\"\"\"Clicks the element.\"\"\"\u001b[39;00m\n\u001b[1;32m---> 94\u001b[0m     \u001b[38;5;28;43mself\u001b[39;49m\u001b[38;5;241;43m.\u001b[39;49m\u001b[43m_execute\u001b[49m\u001b[43m(\u001b[49m\u001b[43mCommand\u001b[49m\u001b[38;5;241;43m.\u001b[39;49m\u001b[43mCLICK_ELEMENT\u001b[49m\u001b[43m)\u001b[49m\n",
      "File \u001b[1;32mc:\\Users\\Akash_windows11\\AppData\\Local\\Programs\\Python\\Python39\\lib\\site-packages\\selenium\\webdriver\\remote\\webelement.py:395\u001b[0m, in \u001b[0;36mWebElement._execute\u001b[1;34m(self, command, params)\u001b[0m\n\u001b[0;32m    393\u001b[0m     params \u001b[38;5;241m=\u001b[39m {}\n\u001b[0;32m    394\u001b[0m params[\u001b[38;5;124m\"\u001b[39m\u001b[38;5;124mid\u001b[39m\u001b[38;5;124m\"\u001b[39m] \u001b[38;5;241m=\u001b[39m \u001b[38;5;28mself\u001b[39m\u001b[38;5;241m.\u001b[39m_id\n\u001b[1;32m--> 395\u001b[0m \u001b[38;5;28;01mreturn\u001b[39;00m \u001b[38;5;28;43mself\u001b[39;49m\u001b[38;5;241;43m.\u001b[39;49m\u001b[43m_parent\u001b[49m\u001b[38;5;241;43m.\u001b[39;49m\u001b[43mexecute\u001b[49m\u001b[43m(\u001b[49m\u001b[43mcommand\u001b[49m\u001b[43m,\u001b[49m\u001b[43m \u001b[49m\u001b[43mparams\u001b[49m\u001b[43m)\u001b[49m\n",
      "File \u001b[1;32mc:\\Users\\Akash_windows11\\AppData\\Local\\Programs\\Python\\Python39\\lib\\site-packages\\selenium\\webdriver\\remote\\webdriver.py:384\u001b[0m, in \u001b[0;36mWebDriver.execute\u001b[1;34m(self, driver_command, params)\u001b[0m\n\u001b[0;32m    382\u001b[0m response \u001b[38;5;241m=\u001b[39m \u001b[38;5;28mself\u001b[39m\u001b[38;5;241m.\u001b[39mcommand_executor\u001b[38;5;241m.\u001b[39mexecute(driver_command, params)\n\u001b[0;32m    383\u001b[0m \u001b[38;5;28;01mif\u001b[39;00m response:\n\u001b[1;32m--> 384\u001b[0m     \u001b[38;5;28;43mself\u001b[39;49m\u001b[38;5;241;43m.\u001b[39;49m\u001b[43merror_handler\u001b[49m\u001b[38;5;241;43m.\u001b[39;49m\u001b[43mcheck_response\u001b[49m\u001b[43m(\u001b[49m\u001b[43mresponse\u001b[49m\u001b[43m)\u001b[49m\n\u001b[0;32m    385\u001b[0m     response[\u001b[38;5;124m\"\u001b[39m\u001b[38;5;124mvalue\u001b[39m\u001b[38;5;124m\"\u001b[39m] \u001b[38;5;241m=\u001b[39m \u001b[38;5;28mself\u001b[39m\u001b[38;5;241m.\u001b[39m_unwrap_value(response\u001b[38;5;241m.\u001b[39mget(\u001b[38;5;124m\"\u001b[39m\u001b[38;5;124mvalue\u001b[39m\u001b[38;5;124m\"\u001b[39m, \u001b[38;5;28;01mNone\u001b[39;00m))\n\u001b[0;32m    386\u001b[0m     \u001b[38;5;28;01mreturn\u001b[39;00m response\n",
      "File \u001b[1;32mc:\\Users\\Akash_windows11\\AppData\\Local\\Programs\\Python\\Python39\\lib\\site-packages\\selenium\\webdriver\\remote\\errorhandler.py:232\u001b[0m, in \u001b[0;36mErrorHandler.check_response\u001b[1;34m(self, response)\u001b[0m\n\u001b[0;32m    230\u001b[0m         alert_text \u001b[38;5;241m=\u001b[39m value[\u001b[38;5;124m\"\u001b[39m\u001b[38;5;124malert\u001b[39m\u001b[38;5;124m\"\u001b[39m]\u001b[38;5;241m.\u001b[39mget(\u001b[38;5;124m\"\u001b[39m\u001b[38;5;124mtext\u001b[39m\u001b[38;5;124m\"\u001b[39m)\n\u001b[0;32m    231\u001b[0m     \u001b[38;5;28;01mraise\u001b[39;00m exception_class(message, screen, stacktrace, alert_text)  \u001b[38;5;66;03m# type: ignore[call-arg]  # mypy is not smart enough here\u001b[39;00m\n\u001b[1;32m--> 232\u001b[0m \u001b[38;5;28;01mraise\u001b[39;00m exception_class(message, screen, stacktrace)\n",
      "\u001b[1;31mElementClickInterceptedException\u001b[0m: Message: element click intercepted: Element <button type=\"button\" class=\"next-btn next-btn-normal next-btn-medium next-pagination-item next\">...</button> is not clickable at point (1114, 20). Other element would receive the click: <div class=\"logo-bar-content header-content\">...</div>\n  (Session info: chrome=132.0.6834.160)\nStacktrace:\n\tGetHandleVerifier [0x00007FF76D4802F5+28725]\n\t(No symbol) [0x00007FF76D3E2AE0]\n\t(No symbol) [0x00007FF76D27510A]\n\t(No symbol) [0x00007FF76D2D10F8]\n\t(No symbol) [0x00007FF76D2CEB42]\n\t(No symbol) [0x00007FF76D2CBC51]\n\t(No symbol) [0x00007FF76D2CABB1]\n\t(No symbol) [0x00007FF76D2BC6B4]\n\t(No symbol) [0x00007FF76D2EFFAA]\n\t(No symbol) [0x00007FF76D2BBF86]\n\t(No symbol) [0x00007FF76D2F01C0]\n\t(No symbol) [0x00007FF76D310181]\n\t(No symbol) [0x00007FF76D2EFD53]\n\t(No symbol) [0x00007FF76D2BA0E3]\n\t(No symbol) [0x00007FF76D2BB471]\n\tGetHandleVerifier [0x00007FF76D7AF30D+3366989]\n\tGetHandleVerifier [0x00007FF76D7C12F0+3440688]\n\tGetHandleVerifier [0x00007FF76D7B78FD+3401277]\n\tGetHandleVerifier [0x00007FF76D54AAAB+858091]\n\t(No symbol) [0x00007FF76D3EE74F]\n\t(No symbol) [0x00007FF76D3EA304]\n\t(No symbol) [0x00007FF76D3EA49D]\n\t(No symbol) [0x00007FF76D3D8B69]\n\tBaseThreadInitThunk [0x00007FFF8980257D+29]\n\tRtlUserThreadStart [0x00007FFF8B68AA48+40]\n"
     ]
    }
   ],
   "source": [
    "for i in range(last_button):\n",
    "\n",
    "    #SCROLL\n",
    "    for i in range(0,height,30):\n",
    "        time.sleep(0.5)\n",
    "        driver.execute_script(f'window.scrollTo(0,{i});')\n",
    "\n",
    "    time.sleep(5)\n",
    "\n",
    "    comments = driver.find_elements(By.CLASS_NAME,'content')\n",
    "    comment_collection.append(comments)\n",
    "    \n",
    "\n",
    "    next_button = '//*[@id=\"module_product_review\"]/div/div/div[3]/div[2]/div/button[2]'\n",
    "    get_next_button = driver.find_element(By.XPATH,next_button)\n",
    "    get_next_button.click()\n",
    "    \n",
    "    "
   ]
  },
  {
   "cell_type": "code",
   "execution_count": null,
   "metadata": {},
   "outputs": [],
   "source": [
    "for i in comment_collection:\n",
    "    print(i.text)"
   ]
  },
  {
   "cell_type": "code",
   "execution_count": 239,
   "metadata": {},
   "outputs": [],
   "source": [
    "next_button = '//*[@id=\"module_product_review\"]/div/div/div[3]/div[2]/div/button[2]'\n",
    "get_next_button = driver.find_element(By.XPATH,next_button)"
   ]
  },
  {
   "cell_type": "code",
   "execution_count": 243,
   "metadata": {},
   "outputs": [],
   "source": [
    "get_next_button.click()"
   ]
  },
  {
   "cell_type": "code",
   "execution_count": 209,
   "metadata": {},
   "outputs": [
    {
     "name": "stdout",
     "output_type": "stream",
     "text": [
      "6\n",
      "4.6/5\n",
      "18 Ratings\n",
      "10\n",
      "4\n",
      "1\n",
      "0\n",
      "3\n",
      "আলহাদুলিল্লাহ অসাধারণ একটা প্রোডাক্ট চাইলে আপনারাও নিতে পারেন। আমি আজ 3 দিন চালাচ্ছি  ভালোই সার্ভিস দিচ্ছে । মাঝে মাঝে নেটওয়ার্ক কম পাইলে হালকা একটু গরম হয়ে যায় ।\n",
      "সব শেষে সেলার কে ধন্যবাদ এতো সুন্দর একটা প্রোডাক্ট পাঠানোর জন্য \n",
      "রাউটারটি এক কথায় অনেক ভালো।রুমের বাইরে যেখানে ভালো নেটওয়ার্ক পায় এমন জায়গায় রেখে মোটামুটি ২ দাগ ওয়াইফাইতে চলে পুরো উরাধুরা গতিতে। \n",
      "এক কথায় অসাধারণ, কোন ড্যামেজ নাই, একদম ফ্রেশ মডেম হাতে পেয়েছি👍🏻🙂\n",
      "lovely product,  working is good. \n",
      "😔😔😔 ১_৫ ঘন্টা পর ওপ হয়ে যাই জা\n",
      "গেমস খেলার সময় অনেক প্রবলেম করে\n",
      "ফোন থেকেও খারাপ নেটওয়ার্ক স্পিড\n"
     ]
    }
   ],
   "source": [
    "print(len(comments))\n",
    "for i in comments:\n",
    "    print(i.text)"
   ]
  },
  {
   "cell_type": "markdown",
   "metadata": {},
   "source": [
    "## scraping comments of multiple pagination after getting the last page number end --------------"
   ]
  },
  {
   "cell_type": "code",
   "execution_count": 192,
   "metadata": {},
   "outputs": [
    {
     "name": "stdout",
     "output_type": "stream",
     "text": [
      "0\n",
      "1\n",
      "2\n",
      "3\n",
      "4\n",
      "5\n",
      "6\n",
      "7\n",
      "8\n",
      "9\n"
     ]
    }
   ],
   "source": [
    "for i in range(last_button):\n",
    "    print(i)\n"
   ]
  },
  {
   "cell_type": "code",
   "execution_count": 148,
   "metadata": {},
   "outputs": [],
   "source": [
    "\n",
    "        \n",
    "    "
   ]
  },
  {
   "cell_type": "code",
   "execution_count": 149,
   "metadata": {},
   "outputs": [],
   "source": [
    "for i in new_button:\n",
    "    print(i.text)"
   ]
  },
  {
   "cell_type": "code",
   "execution_count": 104,
   "metadata": {},
   "outputs": [
    {
     "name": "stdout",
     "output_type": "stream",
     "text": [
      "\n",
      "1\n",
      "7\n",
      "8\n",
      "9\n",
      "10\n",
      "\n",
      "\n",
      "1\n",
      "2\n",
      "3\n",
      "4\n",
      "9\n",
      "\n"
     ]
    }
   ],
   "source": [
    "for i in buttons:\n",
    "    print(i.text)"
   ]
  },
  {
   "cell_type": "code",
   "execution_count": 81,
   "metadata": {},
   "outputs": [],
   "source": [
    "page_buttons = driver.find_elements(By.CSS_SELECTOR, '.next-pagination .next-pagination-list button')\n"
   ]
  },
  {
   "cell_type": "code",
   "execution_count": 83,
   "metadata": {},
   "outputs": [
    {
     "name": "stdout",
     "output_type": "stream",
     "text": [
      "1\n",
      "7\n",
      "8\n",
      "9\n",
      "10\n",
      "1\n",
      "2\n",
      "3\n",
      "4\n",
      "9\n"
     ]
    }
   ],
   "source": [
    "for i in page_buttons:\n",
    "    print(i.text)"
   ]
  },
  {
   "cell_type": "code",
   "execution_count": null,
   "metadata": {},
   "outputs": [],
   "source": []
  },
  {
   "cell_type": "code",
   "execution_count": null,
   "metadata": {},
   "outputs": [],
   "source": []
  },
  {
   "cell_type": "code",
   "execution_count": 4,
   "metadata": {},
   "outputs": [
    {
     "ename": "ElementClickInterceptedException",
     "evalue": "Message: element click intercepted: Element <button type=\"button\" class=\"next-btn next-btn-normal next-btn-medium next-pagination-item next\">...</button> is not clickable at point (1114, 85). Other element would receive the click: <nav class=\"lzd-menu-labels\" data-spm=\"menu\">...</nav>\n  (Session info: chrome=132.0.6834.160)\nStacktrace:\n\tGetHandleVerifier [0x00007FF6169102F5+28725]\n\t(No symbol) [0x00007FF616872AE0]\n\t(No symbol) [0x00007FF61670510A]\n\t(No symbol) [0x00007FF6167610F8]\n\t(No symbol) [0x00007FF61675EB42]\n\t(No symbol) [0x00007FF61675BC51]\n\t(No symbol) [0x00007FF61675ABB1]\n\t(No symbol) [0x00007FF61674C6B4]\n\t(No symbol) [0x00007FF61677FFAA]\n\t(No symbol) [0x00007FF61674BF86]\n\t(No symbol) [0x00007FF6167801C0]\n\t(No symbol) [0x00007FF6167A0181]\n\t(No symbol) [0x00007FF61677FD53]\n\t(No symbol) [0x00007FF61674A0E3]\n\t(No symbol) [0x00007FF61674B471]\n\tGetHandleVerifier [0x00007FF616C3F30D+3366989]\n\tGetHandleVerifier [0x00007FF616C512F0+3440688]\n\tGetHandleVerifier [0x00007FF616C478FD+3401277]\n\tGetHandleVerifier [0x00007FF6169DAAAB+858091]\n\t(No symbol) [0x00007FF61687E74F]\n\t(No symbol) [0x00007FF61687A304]\n\t(No symbol) [0x00007FF61687A49D]\n\t(No symbol) [0x00007FF616868B69]\n\tBaseThreadInitThunk [0x00007FFF8980257D+29]\n\tRtlUserThreadStart [0x00007FFF8B68AA48+40]\n",
     "output_type": "error",
     "traceback": [
      "\u001b[1;31m---------------------------------------------------------------------------\u001b[0m",
      "\u001b[1;31mElementClickInterceptedException\u001b[0m          Traceback (most recent call last)",
      "Cell \u001b[1;32mIn[4], line 14\u001b[0m\n\u001b[0;32m     10\u001b[0m comment_collection \u001b[38;5;241m=\u001b[39m driver\u001b[38;5;241m.\u001b[39mfind_elements(By\u001b[38;5;241m.\u001b[39mCLASS_NAME,\u001b[38;5;124m'\u001b[39m\u001b[38;5;124mcontent\u001b[39m\u001b[38;5;124m'\u001b[39m)\n\u001b[0;32m     11\u001b[0m time\u001b[38;5;241m.\u001b[39msleep(\u001b[38;5;241m10\u001b[39m)\n\u001b[1;32m---> 14\u001b[0m \u001b[43mnext_page\u001b[49m\u001b[38;5;241;43m.\u001b[39;49m\u001b[43mclick\u001b[49m\u001b[43m(\u001b[49m\u001b[43m)\u001b[49m\n",
      "File \u001b[1;32mc:\\Users\\Akash_windows11\\AppData\\Local\\Programs\\Python\\Python39\\lib\\site-packages\\selenium\\webdriver\\remote\\webelement.py:94\u001b[0m, in \u001b[0;36mWebElement.click\u001b[1;34m(self)\u001b[0m\n\u001b[0;32m     92\u001b[0m \u001b[38;5;28;01mdef\u001b[39;00m \u001b[38;5;21mclick\u001b[39m(\u001b[38;5;28mself\u001b[39m) \u001b[38;5;241m-\u001b[39m\u001b[38;5;241m>\u001b[39m \u001b[38;5;28;01mNone\u001b[39;00m:\n\u001b[0;32m     93\u001b[0m \u001b[38;5;250m    \u001b[39m\u001b[38;5;124;03m\"\"\"Clicks the element.\"\"\"\u001b[39;00m\n\u001b[1;32m---> 94\u001b[0m     \u001b[38;5;28;43mself\u001b[39;49m\u001b[38;5;241;43m.\u001b[39;49m\u001b[43m_execute\u001b[49m\u001b[43m(\u001b[49m\u001b[43mCommand\u001b[49m\u001b[38;5;241;43m.\u001b[39;49m\u001b[43mCLICK_ELEMENT\u001b[49m\u001b[43m)\u001b[49m\n",
      "File \u001b[1;32mc:\\Users\\Akash_windows11\\AppData\\Local\\Programs\\Python\\Python39\\lib\\site-packages\\selenium\\webdriver\\remote\\webelement.py:395\u001b[0m, in \u001b[0;36mWebElement._execute\u001b[1;34m(self, command, params)\u001b[0m\n\u001b[0;32m    393\u001b[0m     params \u001b[38;5;241m=\u001b[39m {}\n\u001b[0;32m    394\u001b[0m params[\u001b[38;5;124m\"\u001b[39m\u001b[38;5;124mid\u001b[39m\u001b[38;5;124m\"\u001b[39m] \u001b[38;5;241m=\u001b[39m \u001b[38;5;28mself\u001b[39m\u001b[38;5;241m.\u001b[39m_id\n\u001b[1;32m--> 395\u001b[0m \u001b[38;5;28;01mreturn\u001b[39;00m \u001b[38;5;28;43mself\u001b[39;49m\u001b[38;5;241;43m.\u001b[39;49m\u001b[43m_parent\u001b[49m\u001b[38;5;241;43m.\u001b[39;49m\u001b[43mexecute\u001b[49m\u001b[43m(\u001b[49m\u001b[43mcommand\u001b[49m\u001b[43m,\u001b[49m\u001b[43m \u001b[49m\u001b[43mparams\u001b[49m\u001b[43m)\u001b[49m\n",
      "File \u001b[1;32mc:\\Users\\Akash_windows11\\AppData\\Local\\Programs\\Python\\Python39\\lib\\site-packages\\selenium\\webdriver\\remote\\webdriver.py:384\u001b[0m, in \u001b[0;36mWebDriver.execute\u001b[1;34m(self, driver_command, params)\u001b[0m\n\u001b[0;32m    382\u001b[0m response \u001b[38;5;241m=\u001b[39m \u001b[38;5;28mself\u001b[39m\u001b[38;5;241m.\u001b[39mcommand_executor\u001b[38;5;241m.\u001b[39mexecute(driver_command, params)\n\u001b[0;32m    383\u001b[0m \u001b[38;5;28;01mif\u001b[39;00m response:\n\u001b[1;32m--> 384\u001b[0m     \u001b[38;5;28;43mself\u001b[39;49m\u001b[38;5;241;43m.\u001b[39;49m\u001b[43merror_handler\u001b[49m\u001b[38;5;241;43m.\u001b[39;49m\u001b[43mcheck_response\u001b[49m\u001b[43m(\u001b[49m\u001b[43mresponse\u001b[49m\u001b[43m)\u001b[49m\n\u001b[0;32m    385\u001b[0m     response[\u001b[38;5;124m\"\u001b[39m\u001b[38;5;124mvalue\u001b[39m\u001b[38;5;124m\"\u001b[39m] \u001b[38;5;241m=\u001b[39m \u001b[38;5;28mself\u001b[39m\u001b[38;5;241m.\u001b[39m_unwrap_value(response\u001b[38;5;241m.\u001b[39mget(\u001b[38;5;124m\"\u001b[39m\u001b[38;5;124mvalue\u001b[39m\u001b[38;5;124m\"\u001b[39m, \u001b[38;5;28;01mNone\u001b[39;00m))\n\u001b[0;32m    386\u001b[0m     \u001b[38;5;28;01mreturn\u001b[39;00m response\n",
      "File \u001b[1;32mc:\\Users\\Akash_windows11\\AppData\\Local\\Programs\\Python\\Python39\\lib\\site-packages\\selenium\\webdriver\\remote\\errorhandler.py:232\u001b[0m, in \u001b[0;36mErrorHandler.check_response\u001b[1;34m(self, response)\u001b[0m\n\u001b[0;32m    230\u001b[0m         alert_text \u001b[38;5;241m=\u001b[39m value[\u001b[38;5;124m\"\u001b[39m\u001b[38;5;124malert\u001b[39m\u001b[38;5;124m\"\u001b[39m]\u001b[38;5;241m.\u001b[39mget(\u001b[38;5;124m\"\u001b[39m\u001b[38;5;124mtext\u001b[39m\u001b[38;5;124m\"\u001b[39m)\n\u001b[0;32m    231\u001b[0m     \u001b[38;5;28;01mraise\u001b[39;00m exception_class(message, screen, stacktrace, alert_text)  \u001b[38;5;66;03m# type: ignore[call-arg]  # mypy is not smart enough here\u001b[39;00m\n\u001b[1;32m--> 232\u001b[0m \u001b[38;5;28;01mraise\u001b[39;00m exception_class(message, screen, stacktrace)\n",
      "\u001b[1;31mElementClickInterceptedException\u001b[0m: Message: element click intercepted: Element <button type=\"button\" class=\"next-btn next-btn-normal next-btn-medium next-pagination-item next\">...</button> is not clickable at point (1114, 85). Other element would receive the click: <nav class=\"lzd-menu-labels\" data-spm=\"menu\">...</nav>\n  (Session info: chrome=132.0.6834.160)\nStacktrace:\n\tGetHandleVerifier [0x00007FF6169102F5+28725]\n\t(No symbol) [0x00007FF616872AE0]\n\t(No symbol) [0x00007FF61670510A]\n\t(No symbol) [0x00007FF6167610F8]\n\t(No symbol) [0x00007FF61675EB42]\n\t(No symbol) [0x00007FF61675BC51]\n\t(No symbol) [0x00007FF61675ABB1]\n\t(No symbol) [0x00007FF61674C6B4]\n\t(No symbol) [0x00007FF61677FFAA]\n\t(No symbol) [0x00007FF61674BF86]\n\t(No symbol) [0x00007FF6167801C0]\n\t(No symbol) [0x00007FF6167A0181]\n\t(No symbol) [0x00007FF61677FD53]\n\t(No symbol) [0x00007FF61674A0E3]\n\t(No symbol) [0x00007FF61674B471]\n\tGetHandleVerifier [0x00007FF616C3F30D+3366989]\n\tGetHandleVerifier [0x00007FF616C512F0+3440688]\n\tGetHandleVerifier [0x00007FF616C478FD+3401277]\n\tGetHandleVerifier [0x00007FF6169DAAAB+858091]\n\t(No symbol) [0x00007FF61687E74F]\n\t(No symbol) [0x00007FF61687A304]\n\t(No symbol) [0x00007FF61687A49D]\n\t(No symbol) [0x00007FF616868B69]\n\tBaseThreadInitThunk [0x00007FFF8980257D+29]\n\tRtlUserThreadStart [0x00007FFF8B68AA48+40]\n"
     ]
    }
   ],
   "source": [
    "comment_collection= []\n",
    "\n",
    "x_path = '//*[@id=\"module_product_review\"]/div/div/div[3]/div[2]/div/button[2]'\n",
    "        #  //*[@id=\"module_product_review\"]/div/div/div[3]/div[2]/div/button[2]\n",
    "\n",
    "next_page = driver.find_element(By.XPATH,x_path)\n",
    "\n",
    "for i in range(0,10):\n",
    "    #scrap comments \n",
    "    comment_collection = driver.find_elements(By.CLASS_NAME,'content')\n",
    "    time.sleep(10)\n",
    "    \n",
    "\n",
    "    next_page.click()"
   ]
  },
  {
   "cell_type": "code",
   "execution_count": 67,
   "metadata": {},
   "outputs": [
    {
     "name": "stdout",
     "output_type": "stream",
     "text": [
      "4.6/5\n",
      "17 Ratings\n",
      "9\n",
      "4\n",
      "1\n",
      "0\n",
      "3\n"
     ]
    },
    {
     "ename": "StaleElementReferenceException",
     "evalue": "Message: stale element reference: stale element not found in the current frame\n  (Session info: chrome=132.0.6834.160); For documentation on this error, please visit: https://www.selenium.dev/documentation/webdriver/troubleshooting/errors#stale-element-reference-exception\nStacktrace:\n\tGetHandleVerifier [0x00007FF7D26E02F5+28725]\n\t(No symbol) [0x00007FF7D2642AE0]\n\t(No symbol) [0x00007FF7D24D510A]\n\t(No symbol) [0x00007FF7D24DBD70]\n\t(No symbol) [0x00007FF7D24DEABC]\n\t(No symbol) [0x00007FF7D24DEB8F]\n\t(No symbol) [0x00007FF7D252313F]\n\t(No symbol) [0x00007FF7D254FFAA]\n\t(No symbol) [0x00007FF7D251BF86]\n\t(No symbol) [0x00007FF7D25501C0]\n\t(No symbol) [0x00007FF7D2570181]\n\t(No symbol) [0x00007FF7D254FD53]\n\t(No symbol) [0x00007FF7D251A0E3]\n\t(No symbol) [0x00007FF7D251B471]\n\tGetHandleVerifier [0x00007FF7D2A0F30D+3366989]\n\tGetHandleVerifier [0x00007FF7D2A212F0+3440688]\n\tGetHandleVerifier [0x00007FF7D2A178FD+3401277]\n\tGetHandleVerifier [0x00007FF7D27AAAAB+858091]\n\t(No symbol) [0x00007FF7D264E74F]\n\t(No symbol) [0x00007FF7D264A304]\n\t(No symbol) [0x00007FF7D264A49D]\n\t(No symbol) [0x00007FF7D2638B69]\n\tBaseThreadInitThunk [0x00007FFF8980257D+29]\n\tRtlUserThreadStart [0x00007FFF8B68AA48+40]\n",
     "output_type": "error",
     "traceback": [
      "\u001b[1;31m---------------------------------------------------------------------------\u001b[0m",
      "\u001b[1;31mStaleElementReferenceException\u001b[0m            Traceback (most recent call last)",
      "Cell \u001b[1;32mIn[67], line 2\u001b[0m\n\u001b[0;32m      1\u001b[0m \u001b[38;5;28;01mfor\u001b[39;00m i \u001b[38;5;129;01min\u001b[39;00m comment_collection:\n\u001b[1;32m----> 2\u001b[0m     \u001b[38;5;28mprint\u001b[39m(\u001b[43mi\u001b[49m\u001b[38;5;241;43m.\u001b[39;49m\u001b[43mtext\u001b[49m)\n",
      "File \u001b[1;32mc:\\Users\\Akash_windows11\\AppData\\Local\\Programs\\Python\\Python39\\lib\\site-packages\\selenium\\webdriver\\remote\\webelement.py:90\u001b[0m, in \u001b[0;36mWebElement.text\u001b[1;34m(self)\u001b[0m\n\u001b[0;32m     87\u001b[0m \u001b[38;5;129m@property\u001b[39m\n\u001b[0;32m     88\u001b[0m \u001b[38;5;28;01mdef\u001b[39;00m \u001b[38;5;21mtext\u001b[39m(\u001b[38;5;28mself\u001b[39m) \u001b[38;5;241m-\u001b[39m\u001b[38;5;241m>\u001b[39m \u001b[38;5;28mstr\u001b[39m:\n\u001b[0;32m     89\u001b[0m \u001b[38;5;250m    \u001b[39m\u001b[38;5;124;03m\"\"\"The text of the element.\"\"\"\u001b[39;00m\n\u001b[1;32m---> 90\u001b[0m     \u001b[38;5;28;01mreturn\u001b[39;00m \u001b[38;5;28;43mself\u001b[39;49m\u001b[38;5;241;43m.\u001b[39;49m\u001b[43m_execute\u001b[49m\u001b[43m(\u001b[49m\u001b[43mCommand\u001b[49m\u001b[38;5;241;43m.\u001b[39;49m\u001b[43mGET_ELEMENT_TEXT\u001b[49m\u001b[43m)\u001b[49m[\u001b[38;5;124m\"\u001b[39m\u001b[38;5;124mvalue\u001b[39m\u001b[38;5;124m\"\u001b[39m]\n",
      "File \u001b[1;32mc:\\Users\\Akash_windows11\\AppData\\Local\\Programs\\Python\\Python39\\lib\\site-packages\\selenium\\webdriver\\remote\\webelement.py:395\u001b[0m, in \u001b[0;36mWebElement._execute\u001b[1;34m(self, command, params)\u001b[0m\n\u001b[0;32m    393\u001b[0m     params \u001b[38;5;241m=\u001b[39m {}\n\u001b[0;32m    394\u001b[0m params[\u001b[38;5;124m\"\u001b[39m\u001b[38;5;124mid\u001b[39m\u001b[38;5;124m\"\u001b[39m] \u001b[38;5;241m=\u001b[39m \u001b[38;5;28mself\u001b[39m\u001b[38;5;241m.\u001b[39m_id\n\u001b[1;32m--> 395\u001b[0m \u001b[38;5;28;01mreturn\u001b[39;00m \u001b[38;5;28;43mself\u001b[39;49m\u001b[38;5;241;43m.\u001b[39;49m\u001b[43m_parent\u001b[49m\u001b[38;5;241;43m.\u001b[39;49m\u001b[43mexecute\u001b[49m\u001b[43m(\u001b[49m\u001b[43mcommand\u001b[49m\u001b[43m,\u001b[49m\u001b[43m \u001b[49m\u001b[43mparams\u001b[49m\u001b[43m)\u001b[49m\n",
      "File \u001b[1;32mc:\\Users\\Akash_windows11\\AppData\\Local\\Programs\\Python\\Python39\\lib\\site-packages\\selenium\\webdriver\\remote\\webdriver.py:384\u001b[0m, in \u001b[0;36mWebDriver.execute\u001b[1;34m(self, driver_command, params)\u001b[0m\n\u001b[0;32m    382\u001b[0m response \u001b[38;5;241m=\u001b[39m \u001b[38;5;28mself\u001b[39m\u001b[38;5;241m.\u001b[39mcommand_executor\u001b[38;5;241m.\u001b[39mexecute(driver_command, params)\n\u001b[0;32m    383\u001b[0m \u001b[38;5;28;01mif\u001b[39;00m response:\n\u001b[1;32m--> 384\u001b[0m     \u001b[38;5;28;43mself\u001b[39;49m\u001b[38;5;241;43m.\u001b[39;49m\u001b[43merror_handler\u001b[49m\u001b[38;5;241;43m.\u001b[39;49m\u001b[43mcheck_response\u001b[49m\u001b[43m(\u001b[49m\u001b[43mresponse\u001b[49m\u001b[43m)\u001b[49m\n\u001b[0;32m    385\u001b[0m     response[\u001b[38;5;124m\"\u001b[39m\u001b[38;5;124mvalue\u001b[39m\u001b[38;5;124m\"\u001b[39m] \u001b[38;5;241m=\u001b[39m \u001b[38;5;28mself\u001b[39m\u001b[38;5;241m.\u001b[39m_unwrap_value(response\u001b[38;5;241m.\u001b[39mget(\u001b[38;5;124m\"\u001b[39m\u001b[38;5;124mvalue\u001b[39m\u001b[38;5;124m\"\u001b[39m, \u001b[38;5;28;01mNone\u001b[39;00m))\n\u001b[0;32m    386\u001b[0m     \u001b[38;5;28;01mreturn\u001b[39;00m response\n",
      "File \u001b[1;32mc:\\Users\\Akash_windows11\\AppData\\Local\\Programs\\Python\\Python39\\lib\\site-packages\\selenium\\webdriver\\remote\\errorhandler.py:232\u001b[0m, in \u001b[0;36mErrorHandler.check_response\u001b[1;34m(self, response)\u001b[0m\n\u001b[0;32m    230\u001b[0m         alert_text \u001b[38;5;241m=\u001b[39m value[\u001b[38;5;124m\"\u001b[39m\u001b[38;5;124malert\u001b[39m\u001b[38;5;124m\"\u001b[39m]\u001b[38;5;241m.\u001b[39mget(\u001b[38;5;124m\"\u001b[39m\u001b[38;5;124mtext\u001b[39m\u001b[38;5;124m\"\u001b[39m)\n\u001b[0;32m    231\u001b[0m     \u001b[38;5;28;01mraise\u001b[39;00m exception_class(message, screen, stacktrace, alert_text)  \u001b[38;5;66;03m# type: ignore[call-arg]  # mypy is not smart enough here\u001b[39;00m\n\u001b[1;32m--> 232\u001b[0m \u001b[38;5;28;01mraise\u001b[39;00m exception_class(message, screen, stacktrace)\n",
      "\u001b[1;31mStaleElementReferenceException\u001b[0m: Message: stale element reference: stale element not found in the current frame\n  (Session info: chrome=132.0.6834.160); For documentation on this error, please visit: https://www.selenium.dev/documentation/webdriver/troubleshooting/errors#stale-element-reference-exception\nStacktrace:\n\tGetHandleVerifier [0x00007FF7D26E02F5+28725]\n\t(No symbol) [0x00007FF7D2642AE0]\n\t(No symbol) [0x00007FF7D24D510A]\n\t(No symbol) [0x00007FF7D24DBD70]\n\t(No symbol) [0x00007FF7D24DEABC]\n\t(No symbol) [0x00007FF7D24DEB8F]\n\t(No symbol) [0x00007FF7D252313F]\n\t(No symbol) [0x00007FF7D254FFAA]\n\t(No symbol) [0x00007FF7D251BF86]\n\t(No symbol) [0x00007FF7D25501C0]\n\t(No symbol) [0x00007FF7D2570181]\n\t(No symbol) [0x00007FF7D254FD53]\n\t(No symbol) [0x00007FF7D251A0E3]\n\t(No symbol) [0x00007FF7D251B471]\n\tGetHandleVerifier [0x00007FF7D2A0F30D+3366989]\n\tGetHandleVerifier [0x00007FF7D2A212F0+3440688]\n\tGetHandleVerifier [0x00007FF7D2A178FD+3401277]\n\tGetHandleVerifier [0x00007FF7D27AAAAB+858091]\n\t(No symbol) [0x00007FF7D264E74F]\n\t(No symbol) [0x00007FF7D264A304]\n\t(No symbol) [0x00007FF7D264A49D]\n\t(No symbol) [0x00007FF7D2638B69]\n\tBaseThreadInitThunk [0x00007FFF8980257D+29]\n\tRtlUserThreadStart [0x00007FFF8B68AA48+40]\n"
     ]
    }
   ],
   "source": [
    "for i in comment_collection:\n",
    "    print(i.text)"
   ]
  },
  {
   "cell_type": "code",
   "execution_count": 62,
   "metadata": {},
   "outputs": [
    {
     "name": "stdout",
     "output_type": "stream",
     "text": [
      "4.6/5\n",
      "17 Ratings\n",
      "9\n",
      "4\n",
      "1\n",
      "0\n",
      "3\n"
     ]
    },
    {
     "ename": "StaleElementReferenceException",
     "evalue": "Message: stale element reference: stale element not found in the current frame\n  (Session info: chrome=132.0.6834.160); For documentation on this error, please visit: https://www.selenium.dev/documentation/webdriver/troubleshooting/errors#stale-element-reference-exception\nStacktrace:\n\tGetHandleVerifier [0x00007FF7D26E02F5+28725]\n\t(No symbol) [0x00007FF7D2642AE0]\n\t(No symbol) [0x00007FF7D24D510A]\n\t(No symbol) [0x00007FF7D24DBD70]\n\t(No symbol) [0x00007FF7D24DEABC]\n\t(No symbol) [0x00007FF7D24DEB8F]\n\t(No symbol) [0x00007FF7D252313F]\n\t(No symbol) [0x00007FF7D254FFAA]\n\t(No symbol) [0x00007FF7D251BF86]\n\t(No symbol) [0x00007FF7D25501C0]\n\t(No symbol) [0x00007FF7D2570181]\n\t(No symbol) [0x00007FF7D254FD53]\n\t(No symbol) [0x00007FF7D251A0E3]\n\t(No symbol) [0x00007FF7D251B471]\n\tGetHandleVerifier [0x00007FF7D2A0F30D+3366989]\n\tGetHandleVerifier [0x00007FF7D2A212F0+3440688]\n\tGetHandleVerifier [0x00007FF7D2A178FD+3401277]\n\tGetHandleVerifier [0x00007FF7D27AAAAB+858091]\n\t(No symbol) [0x00007FF7D264E74F]\n\t(No symbol) [0x00007FF7D264A304]\n\t(No symbol) [0x00007FF7D264A49D]\n\t(No symbol) [0x00007FF7D2638B69]\n\tBaseThreadInitThunk [0x00007FFF8980257D+29]\n\tRtlUserThreadStart [0x00007FFF8B68AA48+40]\n",
     "output_type": "error",
     "traceback": [
      "\u001b[1;31m---------------------------------------------------------------------------\u001b[0m",
      "\u001b[1;31mStaleElementReferenceException\u001b[0m            Traceback (most recent call last)",
      "Cell \u001b[1;32mIn[62], line 2\u001b[0m\n\u001b[0;32m      1\u001b[0m \u001b[38;5;28;01mfor\u001b[39;00m i \u001b[38;5;129;01min\u001b[39;00m all_comments:\n\u001b[1;32m----> 2\u001b[0m     \u001b[38;5;28mprint\u001b[39m(\u001b[43mi\u001b[49m\u001b[38;5;241;43m.\u001b[39;49m\u001b[43mtext\u001b[49m)\n",
      "File \u001b[1;32mc:\\Users\\Akash_windows11\\AppData\\Local\\Programs\\Python\\Python39\\lib\\site-packages\\selenium\\webdriver\\remote\\webelement.py:90\u001b[0m, in \u001b[0;36mWebElement.text\u001b[1;34m(self)\u001b[0m\n\u001b[0;32m     87\u001b[0m \u001b[38;5;129m@property\u001b[39m\n\u001b[0;32m     88\u001b[0m \u001b[38;5;28;01mdef\u001b[39;00m \u001b[38;5;21mtext\u001b[39m(\u001b[38;5;28mself\u001b[39m) \u001b[38;5;241m-\u001b[39m\u001b[38;5;241m>\u001b[39m \u001b[38;5;28mstr\u001b[39m:\n\u001b[0;32m     89\u001b[0m \u001b[38;5;250m    \u001b[39m\u001b[38;5;124;03m\"\"\"The text of the element.\"\"\"\u001b[39;00m\n\u001b[1;32m---> 90\u001b[0m     \u001b[38;5;28;01mreturn\u001b[39;00m \u001b[38;5;28;43mself\u001b[39;49m\u001b[38;5;241;43m.\u001b[39;49m\u001b[43m_execute\u001b[49m\u001b[43m(\u001b[49m\u001b[43mCommand\u001b[49m\u001b[38;5;241;43m.\u001b[39;49m\u001b[43mGET_ELEMENT_TEXT\u001b[49m\u001b[43m)\u001b[49m[\u001b[38;5;124m\"\u001b[39m\u001b[38;5;124mvalue\u001b[39m\u001b[38;5;124m\"\u001b[39m]\n",
      "File \u001b[1;32mc:\\Users\\Akash_windows11\\AppData\\Local\\Programs\\Python\\Python39\\lib\\site-packages\\selenium\\webdriver\\remote\\webelement.py:395\u001b[0m, in \u001b[0;36mWebElement._execute\u001b[1;34m(self, command, params)\u001b[0m\n\u001b[0;32m    393\u001b[0m     params \u001b[38;5;241m=\u001b[39m {}\n\u001b[0;32m    394\u001b[0m params[\u001b[38;5;124m\"\u001b[39m\u001b[38;5;124mid\u001b[39m\u001b[38;5;124m\"\u001b[39m] \u001b[38;5;241m=\u001b[39m \u001b[38;5;28mself\u001b[39m\u001b[38;5;241m.\u001b[39m_id\n\u001b[1;32m--> 395\u001b[0m \u001b[38;5;28;01mreturn\u001b[39;00m \u001b[38;5;28;43mself\u001b[39;49m\u001b[38;5;241;43m.\u001b[39;49m\u001b[43m_parent\u001b[49m\u001b[38;5;241;43m.\u001b[39;49m\u001b[43mexecute\u001b[49m\u001b[43m(\u001b[49m\u001b[43mcommand\u001b[49m\u001b[43m,\u001b[49m\u001b[43m \u001b[49m\u001b[43mparams\u001b[49m\u001b[43m)\u001b[49m\n",
      "File \u001b[1;32mc:\\Users\\Akash_windows11\\AppData\\Local\\Programs\\Python\\Python39\\lib\\site-packages\\selenium\\webdriver\\remote\\webdriver.py:384\u001b[0m, in \u001b[0;36mWebDriver.execute\u001b[1;34m(self, driver_command, params)\u001b[0m\n\u001b[0;32m    382\u001b[0m response \u001b[38;5;241m=\u001b[39m \u001b[38;5;28mself\u001b[39m\u001b[38;5;241m.\u001b[39mcommand_executor\u001b[38;5;241m.\u001b[39mexecute(driver_command, params)\n\u001b[0;32m    383\u001b[0m \u001b[38;5;28;01mif\u001b[39;00m response:\n\u001b[1;32m--> 384\u001b[0m     \u001b[38;5;28;43mself\u001b[39;49m\u001b[38;5;241;43m.\u001b[39;49m\u001b[43merror_handler\u001b[49m\u001b[38;5;241;43m.\u001b[39;49m\u001b[43mcheck_response\u001b[49m\u001b[43m(\u001b[49m\u001b[43mresponse\u001b[49m\u001b[43m)\u001b[49m\n\u001b[0;32m    385\u001b[0m     response[\u001b[38;5;124m\"\u001b[39m\u001b[38;5;124mvalue\u001b[39m\u001b[38;5;124m\"\u001b[39m] \u001b[38;5;241m=\u001b[39m \u001b[38;5;28mself\u001b[39m\u001b[38;5;241m.\u001b[39m_unwrap_value(response\u001b[38;5;241m.\u001b[39mget(\u001b[38;5;124m\"\u001b[39m\u001b[38;5;124mvalue\u001b[39m\u001b[38;5;124m\"\u001b[39m, \u001b[38;5;28;01mNone\u001b[39;00m))\n\u001b[0;32m    386\u001b[0m     \u001b[38;5;28;01mreturn\u001b[39;00m response\n",
      "File \u001b[1;32mc:\\Users\\Akash_windows11\\AppData\\Local\\Programs\\Python\\Python39\\lib\\site-packages\\selenium\\webdriver\\remote\\errorhandler.py:232\u001b[0m, in \u001b[0;36mErrorHandler.check_response\u001b[1;34m(self, response)\u001b[0m\n\u001b[0;32m    230\u001b[0m         alert_text \u001b[38;5;241m=\u001b[39m value[\u001b[38;5;124m\"\u001b[39m\u001b[38;5;124malert\u001b[39m\u001b[38;5;124m\"\u001b[39m]\u001b[38;5;241m.\u001b[39mget(\u001b[38;5;124m\"\u001b[39m\u001b[38;5;124mtext\u001b[39m\u001b[38;5;124m\"\u001b[39m)\n\u001b[0;32m    231\u001b[0m     \u001b[38;5;28;01mraise\u001b[39;00m exception_class(message, screen, stacktrace, alert_text)  \u001b[38;5;66;03m# type: ignore[call-arg]  # mypy is not smart enough here\u001b[39;00m\n\u001b[1;32m--> 232\u001b[0m \u001b[38;5;28;01mraise\u001b[39;00m exception_class(message, screen, stacktrace)\n",
      "\u001b[1;31mStaleElementReferenceException\u001b[0m: Message: stale element reference: stale element not found in the current frame\n  (Session info: chrome=132.0.6834.160); For documentation on this error, please visit: https://www.selenium.dev/documentation/webdriver/troubleshooting/errors#stale-element-reference-exception\nStacktrace:\n\tGetHandleVerifier [0x00007FF7D26E02F5+28725]\n\t(No symbol) [0x00007FF7D2642AE0]\n\t(No symbol) [0x00007FF7D24D510A]\n\t(No symbol) [0x00007FF7D24DBD70]\n\t(No symbol) [0x00007FF7D24DEABC]\n\t(No symbol) [0x00007FF7D24DEB8F]\n\t(No symbol) [0x00007FF7D252313F]\n\t(No symbol) [0x00007FF7D254FFAA]\n\t(No symbol) [0x00007FF7D251BF86]\n\t(No symbol) [0x00007FF7D25501C0]\n\t(No symbol) [0x00007FF7D2570181]\n\t(No symbol) [0x00007FF7D254FD53]\n\t(No symbol) [0x00007FF7D251A0E3]\n\t(No symbol) [0x00007FF7D251B471]\n\tGetHandleVerifier [0x00007FF7D2A0F30D+3366989]\n\tGetHandleVerifier [0x00007FF7D2A212F0+3440688]\n\tGetHandleVerifier [0x00007FF7D2A178FD+3401277]\n\tGetHandleVerifier [0x00007FF7D27AAAAB+858091]\n\t(No symbol) [0x00007FF7D264E74F]\n\t(No symbol) [0x00007FF7D264A304]\n\t(No symbol) [0x00007FF7D264A49D]\n\t(No symbol) [0x00007FF7D2638B69]\n\tBaseThreadInitThunk [0x00007FFF8980257D+29]\n\tRtlUserThreadStart [0x00007FFF8B68AA48+40]\n"
     ]
    }
   ],
   "source": [
    "for i in all_comments:\n",
    "    print(i.text)"
   ]
  },
  {
   "cell_type": "code",
   "execution_count": null,
   "metadata": {},
   "outputs": [],
   "source": []
  },
  {
   "cell_type": "code",
   "execution_count": 37,
   "metadata": {},
   "outputs": [
    {
     "data": {
      "text/plain": [
       "3"
      ]
     },
     "execution_count": 37,
     "metadata": {},
     "output_type": "execute_result"
    }
   ],
   "source": [
    "len(all_comments)"
   ]
  },
  {
   "cell_type": "code",
   "execution_count": null,
   "metadata": {},
   "outputs": [],
   "source": [
    "for i in all_comments:\n",
    "    print(i.text)\n"
   ]
  },
  {
   "cell_type": "code",
   "execution_count": 58,
   "metadata": {},
   "outputs": [],
   "source": [
    "#Salman vhia approch \n",
    "\n",
    "\n",
    "all_comments = driver.find_elements(By.CLASS_NAME,'content')"
   ]
  },
  {
   "cell_type": "code",
   "execution_count": 59,
   "metadata": {},
   "outputs": [
    {
     "name": "stdout",
     "output_type": "stream",
     "text": [
      "4.6/5\n",
      "17 Ratings\n",
      "9\n",
      "4\n",
      "1\n",
      "0\n",
      "3\n",
      "মডেমটা আসলেই জোস অনেক ভালো সারভিস দেয় আমি পুরা 1 মাস ধরে ব‍্যেবহার করতেছি কোন সমস‍্যা পাইনি\n",
      " সব সিম ভালো করে কাজ করে আপনারা চাইলে নিতে পারেন প্রোডাক্ট অনেক ভালো অনেকটা দুর থেকেও ভালো  একটা সারভিস দেয় 😊\n",
      "I am satisfied... খুবই কাজের একটা জিনিস । একদম ঠিকঠাক মতোই পেয়েছি । এটার একটা সমস্যা হলো নেট স্পিড কম থাকলে গরম হয়ে যায় । তবুও আমার কাছে ভালো লেগেছে।❤.\n",
      "শুরুতে ভালই ঝামেলা করলেও এখন মোটামুটি ভালোই চলতেছে। স্ট্রং নেটওয়ার্ক থাকলে ভালো সার্ভিস দেয়। অভার অল, সাধারণ কাজে ব্যাবহার করার জন্য নিতে পারেন।বাজেট তুলনায় ঠিক আছে\n",
      "Seller onak antorikotar sathay tar Delivery Complated korsay. Ar net Servies onak valo dai but valo net ar awtai rakhlay product sarvies onak valo dai. Amar junoo parfeckt. Ar seller kay Thanks GooD Produckt dawar juno 💯.\n",
      "👌নাইছ একটি Wifi modem👌 আপনারা নিচ্চিন্তে নিতে পারেন 👉সেলার ভাই ওত্বান্ত ভালো 👈 সেলার ভাইকে ধন্যবাদ 👍 অল্প সময়ে হাতে পেয়েছি ওয়ারেন্টিও পেয়েছি সব দিকেদি Alhamdulillah 🥰\n"
     ]
    }
   ],
   "source": [
    "for i in all_comments:\n",
    "    print(i.text)"
   ]
  }
 ],
 "metadata": {
  "kernelspec": {
   "display_name": "Python 3",
   "language": "python",
   "name": "python3"
  },
  "language_info": {
   "codemirror_mode": {
    "name": "ipython",
    "version": 3
   },
   "file_extension": ".py",
   "mimetype": "text/x-python",
   "name": "python",
   "nbconvert_exporter": "python",
   "pygments_lexer": "ipython3",
   "version": "3.9.11"
  }
 },
 "nbformat": 4,
 "nbformat_minor": 2
}
