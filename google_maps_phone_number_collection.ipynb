{
 "cells": [
  {
   "cell_type": "code",
   "execution_count": 11,
   "metadata": {},
   "outputs": [],
   "source": [
    "from selenium import webdriver\n",
    "import time\n",
    "from selenium.webdriver.common.by import By \n",
    "import re\n",
    "from selenium.webdriver.chrome.options import Options\n",
    "from selenium.webdriver.support.ui import WebDriverWait\n",
    "from selenium.webdriver.support import expected_conditions as EC\n",
    "from selenium.webdriver.common.keys import Keys\n",
    "from selenium.webdriver.common.action_chains import ActionChains\n",
    "import re"
   ]
  },
  {
   "cell_type": "code",
   "execution_count": 26,
   "metadata": {},
   "outputs": [],
   "source": [
    "chrome_options = Options()\n",
    "chrome_options.add_argument(\"--disable-cache\")\n",
    "chrome_options.add_argument(\"--incognito\")\n",
    "driver = webdriver.Chrome(options=chrome_options)"
   ]
  },
  {
   "cell_type": "markdown",
   "metadata": {},
   "source": [
    "# Scrapping Number for google maps"
   ]
  },
  {
   "cell_type": "code",
   "execution_count": 27,
   "metadata": {},
   "outputs": [],
   "source": [
    "driver.get('https://www.google.com/maps')\n",
    "driver.maximize_window()"
   ]
  },
  {
   "cell_type": "code",
   "execution_count": 28,
   "metadata": {},
   "outputs": [],
   "source": [
    "driver.refresh()\n",
    "search_box = driver.find_element(By.NAME, \"q\")"
   ]
  },
  {
   "cell_type": "code",
   "execution_count": 29,
   "metadata": {},
   "outputs": [],
   "source": [
    "search_box.send_keys(\"Laptop Shop Near Mirpur\")"
   ]
  },
  {
   "cell_type": "code",
   "execution_count": 30,
   "metadata": {},
   "outputs": [],
   "source": [
    "time.sleep(5)\n",
    "\n",
    "search_box.send_keys(Keys.RETURN)\n",
    "\n",
    "# time.sleep(200)"
   ]
  },
  {
   "cell_type": "code",
   "execution_count": 31,
   "metadata": {},
   "outputs": [
    {
     "name": "stdout",
     "output_type": "stream",
     "text": [
      "678\n"
     ]
    }
   ],
   "source": [
    "#scroll \n",
    "\n",
    "height = driver.execute_script('return document.body.scrollHeight')\n",
    "print(height)\n",
    "\n",
    "item_select = driver.find_element(By.CLASS_NAME,'hfpxzc')\n",
    "\n",
    "for i in range(0,height+3000,30):\n",
    "    item_select.send_keys(Keys.PAGE_DOWN)\n",
    "\n",
    "    driver.execute_script(f'window.scrollTo(0,{i});')\n",
    "\n",
    "\n",
    "#Alternative : A while loop can be used , it will run untill it gets the ends of the page text ."
   ]
  },
  {
   "cell_type": "markdown",
   "metadata": {},
   "source": [
    "# Scrap items "
   ]
  },
  {
   "cell_type": "code",
   "execution_count": null,
   "metadata": {},
   "outputs": [
    {
     "name": "stdout",
     "output_type": "stream",
     "text": [
      "Collected Data: {'shop_location': ['R949+C76, মিরপুর ১০ নং গোলচত্বর, ঢাকা 1216', 'R949+MV7, ঢাকা 1216', 'Shop -08, Level- 02, Dewan Market, মিরপুর ১০ নং গোলচত্বর, ঢাকা 1216'], 'phone_number': [['01815-807070'], ['01787-895833'], ['01861-999948']]}\n"
     ]
    }
   ],
   "source": [
    "#final \n",
    "\n",
    "# Initialize dictionary\n",
    "dict = {\n",
    "    'shop_location': [],\n",
    "    'phone_number': []\n",
    "}\n",
    "\n",
    "items_link_collection = driver.find_elements(By.CLASS_NAME,'hfpxzc')\n",
    "\n",
    "for i in items_link_collection:\n",
    "    item_link = i.get_attribute('href')\n",
    "    driver.get(item_link)\n",
    "\n",
    "    # Wait for the location element to load before proceeding\n",
    "    WebDriverWait(driver, 10).until(EC.presence_of_element_located((By.CLASS_NAME, 'Io6YTe.fontBodyMedium.kR99db.fdkmkc')))\n",
    "\n",
    "    # Wait before scrolling\n",
    "    time.sleep(2)\n",
    "\n",
    "    item_select = driver.find_element(By.CLASS_NAME, 'Io6YTe.fontBodyMedium.kR99db.fdkmkc')\n",
    "\n",
    "    # Ensure the element is visible\n",
    "    driver.execute_script(\"arguments[0].scrollIntoView();\", item_select)\n",
    "    time.sleep(2)\n",
    "\n",
    "    # Scroll a little bit - move by 300 pixels (adjust this value)\n",
    "    driver.execute_script(\"window.scrollBy(0, 300);\")  # Adjust the value as needed\n",
    "\n",
    "    # Extract location\n",
    "    location_ele = driver.find_element(By.CLASS_NAME, 'Io6YTe.fontBodyMedium.kR99db.fdkmkc')\n",
    "    location = location_ele.text\n",
    "    dict['shop_location'].append(location)\n",
    "\n",
    "    time.sleep(5)\n",
    "\n",
    "    # Phone number collection using regular expressions\n",
    "    main_class = driver.find_elements(By.CLASS_NAME, 'AeaXub')\n",
    "\n",
    "    # List to collect phone numbers\n",
    "    phn_num = []\n",
    "\n",
    "    # Extract the text from all elements in main_class and store it in a list\n",
    "    \n",
    "\n",
    "    text = [j.text for j in main_class]\n",
    "    # Convert the list into a single string\n",
    "    text_string = \" \".join(text)\n",
    "\n",
    "    phone_number = re.findall(r'\\d{5}-\\d{6}', text_string)  # Matches phone numbers like 01643-946107\n",
    "    dict['phone_number'].append(phone_number)\n",
    "\n",
    "    \n",
    "\n",
    "    # Go back to the previous page\n",
    "    driver.back()\n",
    "\n",
    "# After loop finishes, print the collected data\n",
    "print(\"Collected Data:\", dict)\n"
   ]
  },
  {
   "cell_type": "code",
   "execution_count": 33,
   "metadata": {},
   "outputs": [
    {
     "data": {
      "text/plain": [
       "[['01815-807070'], ['01787-895833'], ['01861-999948']]"
      ]
     },
     "execution_count": 33,
     "metadata": {},
     "output_type": "execute_result"
    }
   ],
   "source": [
    "dict['phone_number']"
   ]
  }
 ],
 "metadata": {
  "kernelspec": {
   "display_name": "Python 3",
   "language": "python",
   "name": "python3"
  },
  "language_info": {
   "codemirror_mode": {
    "name": "ipython",
    "version": 3
   },
   "file_extension": ".py",
   "mimetype": "text/x-python",
   "name": "python",
   "nbconvert_exporter": "python",
   "pygments_lexer": "ipython3",
   "version": "3.9.0"
  }
 },
 "nbformat": 4,
 "nbformat_minor": 2
}
