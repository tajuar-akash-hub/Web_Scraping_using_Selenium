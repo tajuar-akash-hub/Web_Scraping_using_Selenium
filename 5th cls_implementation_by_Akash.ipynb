{
 "cells": [
  {
   "cell_type": "code",
   "execution_count": 283,
   "metadata": {},
   "outputs": [
    {
     "name": "stdout",
     "output_type": "stream",
     "text": [
      "done\n"
     ]
    }
   ],
   "source": [
    "from selenium import webdriver\n",
    "import time\n",
    "from selenium.webdriver.common.by import By \n",
    "import re\n",
    "from selenium.webdriver.chrome.options import Options\n",
    "from selenium.webdriver.support.ui import WebDriverWait\n",
    "from selenium.webdriver.support import expected_conditions as EC\n",
    "from selenium.webdriver.common.keys import Keys\n",
    "from selenium.webdriver.common.action_chains import ActionChains\n",
    "import re\n",
    "print(\"done\")"
   ]
  },
  {
   "cell_type": "code",
   "execution_count": 266,
   "metadata": {},
   "outputs": [],
   "source": [
    "chrome_options = Options()\n",
    "chrome_options.add_argument(\"--disable-cache\")\n",
    "chrome_options.add_argument(\"--incognito\")\n",
    "driver = webdriver.Chrome(options=chrome_options)"
   ]
  },
  {
   "cell_type": "code",
   "execution_count": 267,
   "metadata": {},
   "outputs": [],
   "source": [
    "\n",
    "\n",
    "driver.get('https://www.google.com/maps')\n",
    "driver.maximize_window()"
   ]
  },
  {
   "cell_type": "code",
   "execution_count": 268,
   "metadata": {},
   "outputs": [],
   "source": [
    "driver.refresh()\n",
    "search_box = driver.find_element(By.NAME, \"q\")"
   ]
  },
  {
   "cell_type": "code",
   "execution_count": 269,
   "metadata": {},
   "outputs": [],
   "source": [
    "search_box.send_keys(\"Laptop Shop Near Mirpur\")"
   ]
  },
  {
   "cell_type": "code",
   "execution_count": 270,
   "metadata": {},
   "outputs": [],
   "source": [
    "time.sleep(5)\n",
    "\n",
    "search_box.send_keys(Keys.RETURN)\n",
    "\n",
    "# time.sleep(200)"
   ]
  },
  {
   "cell_type": "code",
   "execution_count": 15,
   "metadata": {},
   "outputs": [],
   "source": [
    "# Select Items "
   ]
  },
  {
   "cell_type": "markdown",
   "metadata": {},
   "source": [
    "# Scroll items "
   ]
  },
  {
   "cell_type": "code",
   "execution_count": 271,
   "metadata": {},
   "outputs": [
    {
     "name": "stdout",
     "output_type": "stream",
     "text": [
      "678\n"
     ]
    }
   ],
   "source": [
    "\n",
    "height = driver.execute_script('return document.body.scrollHeight')\n",
    "print(height)"
   ]
  },
  {
   "cell_type": "code",
   "execution_count": 131,
   "metadata": {},
   "outputs": [],
   "source": [
    "item_select = driver.find_element(By.CLASS_NAME,'hfpxzc')\n",
    "\n",
    "for i in range(0,height+2000,30):\n",
    "    item_select.send_keys(Keys.PAGE_DOWN)\n",
    "\n",
    "    driver.execute_script(f'window.scrollTo(0,{i});')"
   ]
  },
  {
   "cell_type": "code",
   "execution_count": null,
   "metadata": {},
   "outputs": [],
   "source": []
  },
  {
   "cell_type": "code",
   "execution_count": null,
   "metadata": {},
   "outputs": [],
   "source": []
  },
  {
   "cell_type": "markdown",
   "metadata": {},
   "source": [
    "# Scrap items "
   ]
  },
  {
   "cell_type": "code",
   "execution_count": 285,
   "metadata": {},
   "outputs": [],
   "source": [
    "# class name = hfpxzc\n",
    "\n",
    "items_link_collection = driver.find_elements(By.CLASS_NAME,'hfpxzc')"
   ]
  },
  {
   "cell_type": "code",
   "execution_count": 286,
   "metadata": {},
   "outputs": [
    {
     "name": "stdout",
     "output_type": "stream",
     "text": [
      "https://www.google.com/maps/place/%E0%A6%B2%E0%A7%8D%E0%A6%AF%E0%A6%BE%E0%A6%AA%E0%A6%9F%E0%A6%AA+%E0%A6%93%E0%A6%AF%E0%A6%BC%E0%A6%BE%E0%A6%B0%E0%A7%8D%E0%A6%B2%E0%A7%8D%E0%A6%A1+%E0%A6%AC%E0%A6%BF%E0%A6%A1%E0%A6%BF/data=!4m7!3m6!1s0x3755c0d692c00001:0x8c8cbee90af0151c!8m2!3d23.8064168!4d90.3695264!16s%2Fg%2F11h_vvkhdk!19sChIJAQDAktbAVTcRHBXwCum-jIw?authuser=0&hl=bn&rclk=1\n",
      "https://www.google.com/maps/place/%E0%A6%8F%E0%A6%B8%E0%A6%8F%E0%A6%B8+%E0%A6%95%E0%A6%AE%E0%A7%8D%E0%A6%AA%E0%A6%BF%E0%A6%89%E0%A6%9F%E0%A6%BE%E0%A6%B0+%7C+%E0%A6%AE%E0%A6%BF%E0%A6%B0%E0%A6%AA%E0%A7%81%E0%A6%B0-10/data=!4m7!3m6!1s0x3755c1fdeb5c3bbf:0x23a36af34a532d0!8m2!3d23.8065524!4d90.36971!16s%2Fg%2F11lbxwsbr2!19sChIJvztc6_3BVTcR0DKlNK82OgI?authuser=0&hl=bn&rclk=1\n",
      "https://www.google.com/maps/place/%E0%A6%95%E0%A6%BE%E0%A6%9C%E0%A7%80+%E0%A6%9F%E0%A7%87%E0%A6%95%E0%A6%A8%E0%A7%8B%E0%A6%B2%E0%A6%9C%E0%A6%BF/data=!4m7!3m6!1s0x3755c0d692206ed5:0xf53955f178dc46ef!8m2!3d23.8066302!4d90.3690243!16s%2Fg%2F11gbzcmw5t!19sChIJ1W4gktbAVTcR70bcePFVOfU?authuser=0&hl=bn&rclk=1\n",
      "https://www.google.com/maps/place/%E0%A6%B2%E0%A7%8D%E0%A6%AF%E0%A6%BE%E0%A6%AA%E0%A6%9F%E0%A6%AA+%E0%A6%B8%E0%A7%8D%E0%A6%9F%E0%A7%87%E0%A6%B6%E0%A6%A8/data=!4m7!3m6!1s0x3755c121814befad:0x5cd59c0601c8acdb!8m2!3d23.806049!4d90.3681469!16s%2Fg%2F11v05cl6ld!19sChIJre9LgSHBVTcR26zIAQac1Vw?authuser=0&hl=bn&rclk=1\n",
      "https://www.google.com/maps/place/%E0%A6%93%E0%A6%AF%E0%A6%BC%E0%A6%BE%E0%A6%B0%E0%A7%8D%E0%A6%B2%E0%A7%8D%E0%A6%A1+%E0%A6%95%E0%A6%AE%E0%A7%8D%E0%A6%AA%E0%A6%BF%E0%A6%89%E0%A6%9F%E0%A6%BE%E0%A6%B0+%E0%A6%B8%E0%A6%BF%E0%A6%B8%E0%A7%8D%E0%A6%9F%E0%A7%87%E0%A6%AE/data=!4m7!3m6!1s0x3755c0d986915a5b:0x68c09c2ac0572f78!8m2!3d23.8066302!4d90.3690243!16s%2Fg%2F11c2lgpm14!19sChIJW1qRhtnAVTcReC9XwCqcwGg?authuser=0&hl=bn&rclk=1\n",
      "https://www.google.com/maps/place/%E0%A6%B2%E0%A7%8D%E0%A6%AF%E0%A6%BE%E0%A6%AA%E0%A6%9F%E0%A6%AA.%E0%A6%B8%E0%A7%8B%E0%A6%B0%E0%A7%8D%E0%A6%B8/data=!4m7!3m6!1s0x3755c17507408cb1:0x7a2c2e1cef798adc!8m2!3d23.8048078!4d90.3693214!16s%2Fg%2F11sh00sz89!19sChIJsYxAB3XBVTcR3Ip57xwuLHo?authuser=0&hl=bn&rclk=1\n",
      "https://www.google.com/maps/place/%E0%A6%87%E0%A6%89+%E0%A6%9F%E0%A7%87%E0%A6%95+%E0%A6%AC%E0%A6%BF%E0%A6%A1%E0%A7%80/data=!4m7!3m6!1s0x3755c0b7c93ec59b:0x1f9ebda108706a47!8m2!3d23.8057465!4d90.3685768!16s%2Fg%2F12lr_8z4f!19sChIJm8U-ybfAVTcRR2pwCKG9nh8?authuser=0&hl=bn&rclk=1\n",
      "https://www.google.com/maps/place/%E0%A6%97%E0%A7%8D%E0%A6%B0%E0%A6%BF%E0%A6%A8+%E0%A6%9F%E0%A7%87%E0%A6%95%E0%A6%A8%E0%A7%8B%E0%A6%B2%E0%A6%9C%E0%A6%BF/data=!4m7!3m6!1s0x3755c19d7d8acd05:0x2dc0062b6175cefe!8m2!3d23.7991441!4d90.3528902!16s%2Fg%2F11gjx12f8n!19sChIJBc2KfZ3BVTcR_s51YSsGwC0?authuser=0&hl=bn&rclk=1\n",
      "https://www.google.com/maps/place/%E0%A6%A8%E0%A7%87%E0%A6%95%E0%A7%8D%E0%A6%B8%E0%A6%BE%E0%A6%B8+%E0%A6%95%E0%A6%AE%E0%A7%8D%E0%A6%AA%E0%A6%BF%E0%A6%89%E0%A6%9F%E0%A6%BE%E0%A6%B0+~+%E0%A6%86%E0%A6%87%E0%A6%A1%E0%A6%BF%E0%A6%AC%E0%A6%BF/data=!4m7!3m6!1s0x3755c74c27bb8ff7:0xa03907452af45284!8m2!3d23.7783624!4d90.3795762!16s%2Fg%2F11f3zt6w9b!19sChIJ94-7J0zHVTcRhFL0KkUHOaA?authuser=0&hl=bn&rclk=1\n",
      "https://www.google.com/maps/place/%E0%A6%B2%E0%A7%8D%E0%A6%AF%E0%A6%BE%E0%A6%AA%E0%A6%9F%E0%A6%AA+%E0%A6%AE%E0%A6%BE%E0%A6%B0%E0%A7%8D%E0%A6%9F/data=!4m7!3m6!1s0x3755c13470d52d43:0x3fcc963c658839f1!8m2!3d23.8066576!4d90.3696627!16s%2Fg%2F11rwsb5k24!19sChIJQy3VcDTBVTcR8TmIZTyWzD8?authuser=0&hl=bn&rclk=1\n"
     ]
    }
   ],
   "source": [
    "#testing if that works \n",
    "\n",
    "for i in items_link_collection:\n",
    "    print(i.get_attribute('href'))"
   ]
  },
  {
   "cell_type": "code",
   "execution_count": 347,
   "metadata": {},
   "outputs": [
    {
     "ename": "IndexError",
     "evalue": "list index out of range",
     "output_type": "error",
     "traceback": [
      "\u001b[1;31m---------------------------------------------------------------------------\u001b[0m",
      "\u001b[1;31mIndexError\u001b[0m                                Traceback (most recent call last)",
      "Cell \u001b[1;32mIn[347], line 58\u001b[0m\n\u001b[0;32m     55\u001b[0m text_string \u001b[38;5;241m=\u001b[39m \u001b[38;5;124m\"\u001b[39m\u001b[38;5;124m \u001b[39m\u001b[38;5;124m\"\u001b[39m\u001b[38;5;241m.\u001b[39mjoin(text)\n\u001b[0;32m     57\u001b[0m phone_number \u001b[38;5;241m=\u001b[39m re\u001b[38;5;241m.\u001b[39mfindall(\u001b[38;5;124mr\u001b[39m\u001b[38;5;124m'\u001b[39m\u001b[38;5;124m\\\u001b[39m\u001b[38;5;124md\u001b[39m\u001b[38;5;132;01m{5}\u001b[39;00m\u001b[38;5;124m-\u001b[39m\u001b[38;5;124m\\\u001b[39m\u001b[38;5;124md\u001b[39m\u001b[38;5;132;01m{6}\u001b[39;00m\u001b[38;5;124m'\u001b[39m, text_string)  \u001b[38;5;66;03m# Matches phone numbers like 01643-946107\u001b[39;00m\n\u001b[1;32m---> 58\u001b[0m \u001b[38;5;28mdict\u001b[39m[\u001b[38;5;124m'\u001b[39m\u001b[38;5;124mphone_number\u001b[39m\u001b[38;5;124m'\u001b[39m]\u001b[38;5;241m.\u001b[39mappend(\u001b[43mphone_number\u001b[49m\u001b[43m[\u001b[49m\u001b[38;5;241;43m0\u001b[39;49m\u001b[43m]\u001b[49m)\n\u001b[0;32m     60\u001b[0m \u001b[38;5;66;03m# print(text_string)\u001b[39;00m\n\u001b[0;32m     61\u001b[0m \n\u001b[0;32m     62\u001b[0m \u001b[38;5;66;03m# print(\"Extracted text:\", text)\u001b[39;00m\n\u001b[1;32m   (...)\u001b[0m\n\u001b[0;32m     80\u001b[0m \n\u001b[0;32m     81\u001b[0m \u001b[38;5;66;03m# Go back to the previous page\u001b[39;00m\n\u001b[0;32m     82\u001b[0m driver\u001b[38;5;241m.\u001b[39mback()\n",
      "\u001b[1;31mIndexError\u001b[0m: list index out of range"
     ]
    }
   ],
   "source": [
    "#final \n",
    "\n",
    "import re\n",
    "from selenium.webdriver.common.by import By\n",
    "from selenium.webdriver.support.ui import WebDriverWait\n",
    "from selenium.webdriver.support import expected_conditions as EC\n",
    "from selenium.webdriver.common.action_chains import ActionChains\n",
    "import time\n",
    "\n",
    "# Initialize dictionary\n",
    "dict = {\n",
    "    'shop_location': [],\n",
    "    'phone_number': []\n",
    "}\n",
    "\n",
    "items_link_collection = driver.find_elements(By.CLASS_NAME,'hfpxzc')\n",
    "\n",
    "for i in items_link_collection:\n",
    "    item_link = i.get_attribute('href')\n",
    "    driver.get(item_link)\n",
    "\n",
    "    # Wait for the location element to load before proceeding\n",
    "    WebDriverWait(driver, 10).until(EC.presence_of_element_located((By.CLASS_NAME, 'Io6YTe.fontBodyMedium.kR99db.fdkmkc')))\n",
    "\n",
    "    # Wait before scrolling\n",
    "    time.sleep(2)\n",
    "\n",
    "    item_select = driver.find_element(By.CLASS_NAME, 'Io6YTe.fontBodyMedium.kR99db.fdkmkc')\n",
    "\n",
    "    # Ensure the element is visible\n",
    "    driver.execute_script(\"arguments[0].scrollIntoView();\", item_select)\n",
    "    time.sleep(2)\n",
    "\n",
    "    # Scroll a little bit - move by 300 pixels (adjust this value)\n",
    "    driver.execute_script(\"window.scrollBy(0, 300);\")  # Adjust the value as needed\n",
    "\n",
    "    # Extract location\n",
    "    location_ele = driver.find_element(By.CLASS_NAME, 'Io6YTe.fontBodyMedium.kR99db.fdkmkc')\n",
    "    location = location_ele.text\n",
    "    dict['shop_location'].append(location)\n",
    "\n",
    "    time.sleep(5)\n",
    "\n",
    "    # Phone number collection using regular expressions\n",
    "    main_class = driver.find_elements(By.CLASS_NAME, 'AeaXub')\n",
    "\n",
    "    # List to collect phone numbers\n",
    "    phn_num = []\n",
    "\n",
    "    # Extract the text from all elements in main_class and store it in a list\n",
    "    \n",
    "\n",
    "    text = [j.text for j in main_class]\n",
    "    # Convert the list into a single string\n",
    "    text_string = \" \".join(text)\n",
    "\n",
    "    phone_number = re.findall(r'\\d{5}-\\d{6}', text_string)  # Matches phone numbers like 01643-946107\n",
    "    dict['phone_number'].append(phone_number[0])\n",
    "\n",
    "    # print(text_string)\n",
    "\n",
    "    # print(\"Extracted text:\", text)\n",
    "\n",
    "    # Loop through each extracted text and apply the regular expression to find phone numbers\n",
    "    # for item_text in text:\n",
    "    #     # Use regular expression to find phone numbers like 01643-946107\n",
    "        \n",
    "\n",
    "    #     print(phone_number)\n",
    "        \n",
    "    #     if phone_number:\n",
    "    #         # Append the first phone number found\n",
    "    #         phn_num.append(phone_number[0])\n",
    "    #     else:\n",
    "    #         # If no phone number is found, append 'N/A'\n",
    "    #         phn_num.append('N/A')\n",
    "\n",
    "    # # Add the found phone numbers to the dictionary\n",
    "    # dict['phone_number'].append(phn_num)\n",
    "\n",
    "    # Go back to the previous page\n",
    "    driver.back()\n",
    "\n",
    "# After loop finishes, print the collected data\n",
    "print(\"Collected Data:\", dict)\n"
   ]
  },
  {
   "cell_type": "code",
   "execution_count": 341,
   "metadata": {},
   "outputs": [
    {
     "data": {
      "text/plain": [
       "{'shop_location': ['Shop -08, Level- 02, Dewan Market, মিরপুর ১০ নং গোলচত্বর, ঢাকা 1216',\n",
       "  'House 07, Road 03,Harun super market (2nd floor, মিরপুর ১০ নং গোলচত্বর, ঢাকা 1216',\n",
       "  '5th Floor, Shop No: 49 80/A, শাহ্\\u200c আলি প্লাজা, মিরপুর ১০ নং গোলচত্বর, ঢাকা 1216',\n",
       "  'R949+C76, মিরপুর ১০ নং গোলচত্বর, ঢাকা 1216',\n",
       "  'Shop no 702, 6th Floor, শাহ্\\u200c আলি প্লাজা, ঢাকা 1216',\n",
       "  'No 255 ,107 4th Floor, Sony Bhaban, Shenpara Parbata ,Metro Piller, ঢাকা 1216'],\n",
       " 'phone_number': [['N/A', 'N/A', 'N/A', '01861-999948', 'N/A'],\n",
       "  ['N/A', '01643-946107', 'N/A', 'N/A'],\n",
       "  ['N/A', 'N/A', 'N/A'],\n",
       "  ['N/A', 'N/A', '01815-807070', 'N/A'],\n",
       "  ['N/A', 'N/A', 'N/A', 'N/A', '01618-927565', 'N/A'],\n",
       "  ['N/A', 'N/A', '01724-406156', 'N/A']]}"
      ]
     },
     "execution_count": 341,
     "metadata": {},
     "output_type": "execute_result"
    }
   ],
   "source": [
    "dict"
   ]
  },
  {
   "cell_type": "code",
   "execution_count": null,
   "metadata": {},
   "outputs": [],
   "source": []
  }
 ],
 "metadata": {
  "kernelspec": {
   "display_name": "Python 3",
   "language": "python",
   "name": "python3"
  },
  "language_info": {
   "codemirror_mode": {
    "name": "ipython",
    "version": 3
   },
   "file_extension": ".py",
   "mimetype": "text/x-python",
   "name": "python",
   "nbconvert_exporter": "python",
   "pygments_lexer": "ipython3",
   "version": "3.9.0"
  }
 },
 "nbformat": 4,
 "nbformat_minor": 2
}
